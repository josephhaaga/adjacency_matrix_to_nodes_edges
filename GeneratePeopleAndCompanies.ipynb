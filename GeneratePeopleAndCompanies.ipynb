{
 "cells": [
  {
   "cell_type": "markdown",
   "metadata": {},
   "source": [
    "Generate dataset containing \n",
    "\n",
    "Vertices:\n",
    "- Company\n",
    "- Person\n",
    "\n",
    "Edges:\n",
    "- claims_dependent (Person -> Person)\n",
    "- owned_by (Company -> Company) [maybe this could also be Company -> Person]\n",
    "- employed_by (Person -> Company)\n"
   ]
  },
  {
   "cell_type": "code",
   "execution_count": 80,
   "metadata": {
    "collapsed": true
   },
   "outputs": [],
   "source": [
    "from faker import Faker\n",
    "import numpy as np\n",
    "import pandas as pd\n",
    "\n",
    "NUM_COMPANIES = 20\n",
    "NUM_PEOPLE = 100\n",
    "\n",
    "DEPENDENCY_RATE = 0.47\n",
    "# Roughly what fraction of Persons are in a claims_dependent relationship?\n",
    "SUBSIDIARY_RATE = 0.3\n",
    "# Roughly what fraction of Companies are in an owned_by relationship?\n",
    "UNEMPLOYMENT_RATE = 0.02\n",
    "# Roughly what fraction of Persons are not in an employed_by relationship?\n",
    "\n",
    "NUM_DEPENDENTS = int(NUM_PEOPLE * DEPENDENCY_RATE)\n",
    "NUM_OWNERSHIPS = int(NUM_COMPANIES * SUBSIDIARY_RATE)\n",
    "NUM_EMPLOYMENTS = int(NUM_PEOPLE * (1 - UNEMPLOYMENT_RATE))"
   ]
  },
  {
   "cell_type": "code",
   "execution_count": 18,
   "metadata": {
    "collapsed": true
   },
   "outputs": [],
   "source": [
    "f = Faker()"
   ]
  },
  {
   "cell_type": "code",
   "execution_count": 19,
   "metadata": {
    "collapsed": true
   },
   "outputs": [],
   "source": [
    "companies = [{\"type\":\"company\", \"name\":f.company(), \"address\":f.address().replace(\"\\n\",\" \")} for n in range(0, NUM_COMPANIES)]"
   ]
  },
  {
   "cell_type": "code",
   "execution_count": 20,
   "metadata": {},
   "outputs": [
    {
     "data": {
      "text/html": [
       "<div>\n",
       "<style>\n",
       "    .dataframe thead tr:only-child th {\n",
       "        text-align: right;\n",
       "    }\n",
       "\n",
       "    .dataframe thead th {\n",
       "        text-align: left;\n",
       "    }\n",
       "\n",
       "    .dataframe tbody tr th {\n",
       "        vertical-align: top;\n",
       "    }\n",
       "</style>\n",
       "<table border=\"1\" class=\"dataframe\">\n",
       "  <thead>\n",
       "    <tr style=\"text-align: right;\">\n",
       "      <th></th>\n",
       "      <th>type</th>\n",
       "      <th>name</th>\n",
       "      <th>address</th>\n",
       "    </tr>\n",
       "  </thead>\n",
       "  <tbody>\n",
       "    <tr>\n",
       "      <th>0</th>\n",
       "      <td>company</td>\n",
       "      <td>Cooper-Green</td>\n",
       "      <td>6647 Roger Walks Suite 088 Julieburgh, NY 53881</td>\n",
       "    </tr>\n",
       "    <tr>\n",
       "      <th>1</th>\n",
       "      <td>company</td>\n",
       "      <td>Williams-Figueroa</td>\n",
       "      <td>65694 Maureen Mountain Morganhaven, ND 01430</td>\n",
       "    </tr>\n",
       "    <tr>\n",
       "      <th>2</th>\n",
       "      <td>company</td>\n",
       "      <td>Montes LLC</td>\n",
       "      <td>2464 Mark Unions Suite 345 Johnview, MN 95700</td>\n",
       "    </tr>\n",
       "    <tr>\n",
       "      <th>3</th>\n",
       "      <td>company</td>\n",
       "      <td>Gomez-Morgan</td>\n",
       "      <td>565 Jason Park Thomasmouth, TX 84271</td>\n",
       "    </tr>\n",
       "    <tr>\n",
       "      <th>4</th>\n",
       "      <td>company</td>\n",
       "      <td>Bowen-Payne</td>\n",
       "      <td>6161 Lynn Summit Suite 881 South Darleneshire,...</td>\n",
       "    </tr>\n",
       "  </tbody>\n",
       "</table>\n",
       "</div>"
      ],
      "text/plain": [
       "      type               name  \\\n",
       "0  company       Cooper-Green   \n",
       "1  company  Williams-Figueroa   \n",
       "2  company         Montes LLC   \n",
       "3  company       Gomez-Morgan   \n",
       "4  company        Bowen-Payne   \n",
       "\n",
       "                                             address  \n",
       "0    6647 Roger Walks Suite 088 Julieburgh, NY 53881  \n",
       "1       65694 Maureen Mountain Morganhaven, ND 01430  \n",
       "2      2464 Mark Unions Suite 345 Johnview, MN 95700  \n",
       "3               565 Jason Park Thomasmouth, TX 84271  \n",
       "4  6161 Lynn Summit Suite 881 South Darleneshire,...  "
      ]
     },
     "execution_count": 20,
     "metadata": {},
     "output_type": "execute_result"
    }
   ],
   "source": [
    "company_df = pd.DataFrame(companies)[['type', 'name', 'address']]\n",
    "company_df.head()"
   ]
  },
  {
   "cell_type": "code",
   "execution_count": 26,
   "metadata": {
    "collapsed": true
   },
   "outputs": [],
   "source": [
    "adults = [{\"type\":\"person\", \"name\":f.name(), \"address\":f.address().replace(\"\\n\",\" \")} for n in range(0, NUM_ADULTS)]"
   ]
  },
  {
   "cell_type": "code",
   "execution_count": 27,
   "metadata": {
    "collapsed": true
   },
   "outputs": [],
   "source": [
    "adults_df = pd.DataFrame(adults)[['type', 'name', 'address']]"
   ]
  },
  {
   "cell_type": "code",
   "execution_count": 28,
   "metadata": {},
   "outputs": [
    {
     "data": {
      "text/html": [
       "<div>\n",
       "<style>\n",
       "    .dataframe thead tr:only-child th {\n",
       "        text-align: right;\n",
       "    }\n",
       "\n",
       "    .dataframe thead th {\n",
       "        text-align: left;\n",
       "    }\n",
       "\n",
       "    .dataframe tbody tr th {\n",
       "        vertical-align: top;\n",
       "    }\n",
       "</style>\n",
       "<table border=\"1\" class=\"dataframe\">\n",
       "  <thead>\n",
       "    <tr style=\"text-align: right;\">\n",
       "      <th></th>\n",
       "      <th>type</th>\n",
       "      <th>name</th>\n",
       "      <th>address</th>\n",
       "    </tr>\n",
       "  </thead>\n",
       "  <tbody>\n",
       "    <tr>\n",
       "      <th>0</th>\n",
       "      <td>person</td>\n",
       "      <td>Margaret Khan</td>\n",
       "      <td>1533 Frederick Alley Jamesmouth, SD 62854</td>\n",
       "    </tr>\n",
       "    <tr>\n",
       "      <th>1</th>\n",
       "      <td>person</td>\n",
       "      <td>Terry Herring</td>\n",
       "      <td>7340 Simmons Square Apt. 770 Isabellaville, MS...</td>\n",
       "    </tr>\n",
       "    <tr>\n",
       "      <th>2</th>\n",
       "      <td>person</td>\n",
       "      <td>Mariah Peterson</td>\n",
       "      <td>829 Combs Expressway Jamesstad, VT 68867</td>\n",
       "    </tr>\n",
       "    <tr>\n",
       "      <th>3</th>\n",
       "      <td>person</td>\n",
       "      <td>Jeffrey Baird</td>\n",
       "      <td>49842 Christopher Ports Christianton, AR 61646</td>\n",
       "    </tr>\n",
       "    <tr>\n",
       "      <th>4</th>\n",
       "      <td>person</td>\n",
       "      <td>Grant Smith</td>\n",
       "      <td>5123 Buckley Harbor Apt. 998 Alexandertown, KS...</td>\n",
       "    </tr>\n",
       "  </tbody>\n",
       "</table>\n",
       "</div>"
      ],
      "text/plain": [
       "     type             name                                            address\n",
       "0  person    Margaret Khan          1533 Frederick Alley Jamesmouth, SD 62854\n",
       "1  person    Terry Herring  7340 Simmons Square Apt. 770 Isabellaville, MS...\n",
       "2  person  Mariah Peterson           829 Combs Expressway Jamesstad, VT 68867\n",
       "3  person    Jeffrey Baird     49842 Christopher Ports Christianton, AR 61646\n",
       "4  person      Grant Smith  5123 Buckley Harbor Apt. 998 Alexandertown, KS..."
      ]
     },
     "execution_count": 28,
     "metadata": {},
     "output_type": "execute_result"
    }
   ],
   "source": [
    "adults_df.head()"
   ]
  },
  {
   "cell_type": "code",
   "execution_count": 33,
   "metadata": {
    "scrolled": true
   },
   "outputs": [
    {
     "data": {
      "text/html": [
       "<div>\n",
       "<style>\n",
       "    .dataframe thead tr:only-child th {\n",
       "        text-align: right;\n",
       "    }\n",
       "\n",
       "    .dataframe thead th {\n",
       "        text-align: left;\n",
       "    }\n",
       "\n",
       "    .dataframe tbody tr th {\n",
       "        vertical-align: top;\n",
       "    }\n",
       "</style>\n",
       "<table border=\"1\" class=\"dataframe\">\n",
       "  <thead>\n",
       "    <tr style=\"text-align: right;\">\n",
       "      <th></th>\n",
       "      <th>id</th>\n",
       "      <th>type</th>\n",
       "      <th>name</th>\n",
       "      <th>address</th>\n",
       "    </tr>\n",
       "  </thead>\n",
       "  <tbody>\n",
       "    <tr>\n",
       "      <th>15</th>\n",
       "      <td>15</td>\n",
       "      <td>company</td>\n",
       "      <td>Smith, Reed and Flores</td>\n",
       "      <td>6892 Sanchez Union Suite 513 Stewarttown, NC 6...</td>\n",
       "    </tr>\n",
       "    <tr>\n",
       "      <th>16</th>\n",
       "      <td>16</td>\n",
       "      <td>company</td>\n",
       "      <td>Harris Inc</td>\n",
       "      <td>024 Good Overpass New Lesliehaven, NC 62986</td>\n",
       "    </tr>\n",
       "    <tr>\n",
       "      <th>17</th>\n",
       "      <td>17</td>\n",
       "      <td>company</td>\n",
       "      <td>Diaz, Sanchez and Williams</td>\n",
       "      <td>00807 Meadows Prairie Apt. 382 East Melaniebur...</td>\n",
       "    </tr>\n",
       "    <tr>\n",
       "      <th>18</th>\n",
       "      <td>18</td>\n",
       "      <td>company</td>\n",
       "      <td>Jones Inc</td>\n",
       "      <td>Unit 5674 Box 1556 DPO AA 42502</td>\n",
       "    </tr>\n",
       "    <tr>\n",
       "      <th>19</th>\n",
       "      <td>19</td>\n",
       "      <td>company</td>\n",
       "      <td>Holmes Ltd</td>\n",
       "      <td>90746 Beasley Shoal Suite 136 New Joseph, WA 4...</td>\n",
       "    </tr>\n",
       "    <tr>\n",
       "      <th>20</th>\n",
       "      <td>20</td>\n",
       "      <td>person</td>\n",
       "      <td>Margaret Khan</td>\n",
       "      <td>1533 Frederick Alley Jamesmouth, SD 62854</td>\n",
       "    </tr>\n",
       "    <tr>\n",
       "      <th>21</th>\n",
       "      <td>21</td>\n",
       "      <td>person</td>\n",
       "      <td>Terry Herring</td>\n",
       "      <td>7340 Simmons Square Apt. 770 Isabellaville, MS...</td>\n",
       "    </tr>\n",
       "    <tr>\n",
       "      <th>22</th>\n",
       "      <td>22</td>\n",
       "      <td>person</td>\n",
       "      <td>Mariah Peterson</td>\n",
       "      <td>829 Combs Expressway Jamesstad, VT 68867</td>\n",
       "    </tr>\n",
       "    <tr>\n",
       "      <th>23</th>\n",
       "      <td>23</td>\n",
       "      <td>person</td>\n",
       "      <td>Jeffrey Baird</td>\n",
       "      <td>49842 Christopher Ports Christianton, AR 61646</td>\n",
       "    </tr>\n",
       "    <tr>\n",
       "      <th>24</th>\n",
       "      <td>24</td>\n",
       "      <td>person</td>\n",
       "      <td>Grant Smith</td>\n",
       "      <td>5123 Buckley Harbor Apt. 998 Alexandertown, KS...</td>\n",
       "    </tr>\n",
       "  </tbody>\n",
       "</table>\n",
       "</div>"
      ],
      "text/plain": [
       "    id     type                        name  \\\n",
       "15  15  company      Smith, Reed and Flores   \n",
       "16  16  company                  Harris Inc   \n",
       "17  17  company  Diaz, Sanchez and Williams   \n",
       "18  18  company                   Jones Inc   \n",
       "19  19  company                  Holmes Ltd   \n",
       "20  20   person               Margaret Khan   \n",
       "21  21   person               Terry Herring   \n",
       "22  22   person             Mariah Peterson   \n",
       "23  23   person               Jeffrey Baird   \n",
       "24  24   person                 Grant Smith   \n",
       "\n",
       "                                              address  \n",
       "15  6892 Sanchez Union Suite 513 Stewarttown, NC 6...  \n",
       "16        024 Good Overpass New Lesliehaven, NC 62986  \n",
       "17  00807 Meadows Prairie Apt. 382 East Melaniebur...  \n",
       "18                    Unit 5674 Box 1556 DPO AA 42502  \n",
       "19  90746 Beasley Shoal Suite 136 New Joseph, WA 4...  \n",
       "20          1533 Frederick Alley Jamesmouth, SD 62854  \n",
       "21  7340 Simmons Square Apt. 770 Isabellaville, MS...  \n",
       "22           829 Combs Expressway Jamesstad, VT 68867  \n",
       "23     49842 Christopher Ports Christianton, AR 61646  \n",
       "24  5123 Buckley Harbor Apt. 998 Alexandertown, KS...  "
      ]
     },
     "execution_count": 33,
     "metadata": {},
     "output_type": "execute_result"
    }
   ],
   "source": [
    "vertices = company_df.append(adults_df, ignore_index=True).reset_index().rename(columns={\"index\":\"id\"})\n",
    "vertices[NUM_COMPANIES - 5: NUM_COMPANIES + 5]"
   ]
  },
  {
   "cell_type": "code",
   "execution_count": 76,
   "metadata": {},
   "outputs": [],
   "source": [
    "# claims_dependent()\n",
    "random_company = lambda: np.random.randint(0,NUM_COMPANIES)\n",
    "random_person = lambda: np.random.randint(NUM_COMPANIES, NUM_PEOPLE)"
   ]
  },
  {
   "cell_type": "code",
   "execution_count": 82,
   "metadata": {},
   "outputs": [],
   "source": [
    "claims_dependent = [{\"src\": random_person(), \"dst\": random_person(), \"relationship\": \"claims_dependent\"} for x in range(0, NUM_DEPENDENTS)]\n",
    "owned_by = [{\"src\": random_company(), \"dst\": random_company(), \"relationship\": \"owned_by\"} for x in range(0, NUM_OWNERSHIPS)]\n",
    "employed_by = [{\"src\": random_person(), \"dst\": random_company(), \"relationship\": \"employed_by\"} for x in range(0, NUM_EMPLOYMENTS)]"
   ]
  },
  {
   "cell_type": "code",
   "execution_count": 93,
   "metadata": {},
   "outputs": [],
   "source": [
    "edges = pd.DataFrame(claims_dependent).append(pd.DataFrame(owned_by)).append(pd.DataFrame(employed_by))[['src', 'dst', 'relationship']]"
   ]
  },
  {
   "cell_type": "code",
   "execution_count": 94,
   "metadata": {},
   "outputs": [
    {
     "data": {
      "text/plain": [
       "employed_by         98\n",
       "claims_dependent    47\n",
       "owned_by             6\n",
       "Name: relationship, dtype: int64"
      ]
     },
     "execution_count": 94,
     "metadata": {},
     "output_type": "execute_result"
    }
   ],
   "source": [
    "edges.relationship.value_counts()\n",
    "# These values should match the parameters at the top of the notebook"
   ]
  },
  {
   "cell_type": "code",
   "execution_count": 96,
   "metadata": {},
   "outputs": [
    {
     "data": {
      "text/html": [
       "<div>\n",
       "<style>\n",
       "    .dataframe thead tr:only-child th {\n",
       "        text-align: right;\n",
       "    }\n",
       "\n",
       "    .dataframe thead th {\n",
       "        text-align: left;\n",
       "    }\n",
       "\n",
       "    .dataframe tbody tr th {\n",
       "        vertical-align: top;\n",
       "    }\n",
       "</style>\n",
       "<table border=\"1\" class=\"dataframe\">\n",
       "  <thead>\n",
       "    <tr style=\"text-align: right;\">\n",
       "      <th></th>\n",
       "      <th>src</th>\n",
       "      <th>dst</th>\n",
       "      <th>relationship</th>\n",
       "    </tr>\n",
       "  </thead>\n",
       "  <tbody>\n",
       "    <tr>\n",
       "      <th>45</th>\n",
       "      <td>49</td>\n",
       "      <td>66</td>\n",
       "      <td>claims_dependent</td>\n",
       "    </tr>\n",
       "    <tr>\n",
       "      <th>46</th>\n",
       "      <td>63</td>\n",
       "      <td>76</td>\n",
       "      <td>claims_dependent</td>\n",
       "    </tr>\n",
       "    <tr>\n",
       "      <th>0</th>\n",
       "      <td>13</td>\n",
       "      <td>12</td>\n",
       "      <td>owned_by</td>\n",
       "    </tr>\n",
       "    <tr>\n",
       "      <th>1</th>\n",
       "      <td>7</td>\n",
       "      <td>13</td>\n",
       "      <td>owned_by</td>\n",
       "    </tr>\n",
       "  </tbody>\n",
       "</table>\n",
       "</div>"
      ],
      "text/plain": [
       "    src  dst      relationship\n",
       "45   49   66  claims_dependent\n",
       "46   63   76  claims_dependent\n",
       "0    13   12          owned_by\n",
       "1     7   13          owned_by"
      ]
     },
     "execution_count": 96,
     "metadata": {},
     "output_type": "execute_result"
    }
   ],
   "source": [
    "edges[NUM_DEPENDENTS - 2: NUM_DEPENDENTS + 2]"
   ]
  },
  {
   "cell_type": "code",
   "execution_count": 99,
   "metadata": {},
   "outputs": [],
   "source": [
    "vertices.to_csv(\"./peopleAndCompanies_vertices.csv\", index=False)\n",
    "edges.to_csv(\"./peopleAndCompanies_edges.csv\", index=False)"
   ]
  }
 ],
 "metadata": {
  "kernelspec": {
   "display_name": "Python 3",
   "language": "python",
   "name": "python3"
  },
  "language_info": {
   "codemirror_mode": {
    "name": "ipython",
    "version": 3
   },
   "file_extension": ".py",
   "mimetype": "text/x-python",
   "name": "python",
   "nbconvert_exporter": "python",
   "pygments_lexer": "ipython3",
   "version": "3.6.3"
  }
 },
 "nbformat": 4,
 "nbformat_minor": 2
}
